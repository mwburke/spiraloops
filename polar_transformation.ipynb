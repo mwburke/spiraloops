{
 "cells": [
  {
   "cell_type": "code",
   "execution_count": 1,
   "metadata": {},
   "outputs": [],
   "source": [
    "import numpy as np\n",
    "from math import pi\n",
    "\n",
    "import matplotlib.pyplot as plt\n",
    "from matplotlib.collections import LineCollection\n",
    "\n",
    "from ipywidgets import widgets\n",
    "from ipywidgets import interact, interact_manual, interactive\n",
    "\n",
    "from skimage import data\n",
    "from skimage.transform import warp_polar\n",
    "from PIL import Image\n",
    "from scipy.ndimage import map_coordinates\n",
    "from IPython.display import display\n",
    "\n",
    "%matplotlib inline"
   ]
  },
  {
   "cell_type": "code",
   "execution_count": null,
   "metadata": {},
   "outputs": [],
   "source": [
    "def rect_points(width, height, num_points):\n",
    "    "
   ]
  },
  {
   "cell_type": "code",
   "execution_count": 2,
   "metadata": {},
   "outputs": [],
   "source": [
    "def linear_polar(img, o=None, r=None, output=None, order=1, cont=0):\n",
    "    if o is None: o = np.array(img.shape[:2])/2 - 0.5\n",
    "    if r is None: r = (np.array(img.shape[:2])**2).sum()**0.5/2\n",
    "    if output is None:\n",
    "        shp = int(round(r)), int(round(r*2*np.pi))\n",
    "        output = np.zeros(shp, dtype=img.dtype)\n",
    "    elif isinstance(output, tuple):\n",
    "        output = np.zeros(output, dtype=img.dtype)\n",
    "    out_h, out_w = output.shape\n",
    "    out_img = np.zeros((out_h, out_w), dtype=img.dtype)\n",
    "    rs = np.linspace(0, r, out_h)\n",
    "    ts = np.linspace(0, np.pi*2, out_w)\n",
    "    xs = rs[:,None] * np.cos(ts) + o[1]\n",
    "    ys = rs[:,None] * np.sin(ts) + o[0]\n",
    "    map_coordinates(img, (ys, xs), order=order, output=output)\n",
    "    return output\n",
    "\n",
    "def polar_linear(img, o=None, r=None, output=None, order=1, cont=0):\n",
    "    if r is None: r = img.shape[0]\n",
    "    if output is None:\n",
    "        output = np.zeros((r*2, r*2, 3), dtype=img.dtype)\n",
    "    elif isinstance(output, tuple):\n",
    "        output = np.zeros(output, dtype=img.dtype)\n",
    "    if o is None: o = np.array(output.shape[0:2])/2 - 0.5\n",
    "    out_h, out_w = output.shape[0:2]\n",
    "    ys, xs = np.mgrid[:out_h, :out_w] - o[:,None,None]\n",
    "    rs = (ys**2+xs**2)**0.5\n",
    "    ts = np.arccos(xs/rs)\n",
    "    ts[ys<0] = np.pi*2 - ts[ys<0]\n",
    "    ts *= (img.shape[1]-1)/(np.pi*2)\n",
    "    mapped_values = []\n",
    "    for i in range(img.shape[2]):\n",
    "        map_coordinates(img[:, :, i], (rs, ts), order=order, output=output[:, :, i])\n",
    "    return output\n"
   ]
  },
  {
   "cell_type": "code",
   "execution_count": 5,
   "metadata": {
    "scrolled": false
   },
   "outputs": [],
   "source": [
    "# Testing that it works properly\n",
    "# image = np.array(Image.open('img/dmitri.png'))[:, :, 0:3]\n",
    "# display(Image.fromarray(polar_linear(image)))"
   ]
  },
  {
   "cell_type": "code",
   "execution_count": null,
   "metadata": {},
   "outputs": [],
   "source": []
  },
  {
   "cell_type": "code",
   "execution_count": null,
   "metadata": {},
   "outputs": [],
   "source": []
  }
 ],
 "metadata": {
  "kernelspec": {
   "display_name": "Python 3",
   "language": "python",
   "name": "python3"
  },
  "language_info": {
   "codemirror_mode": {
    "name": "ipython",
    "version": 3
   },
   "file_extension": ".py",
   "mimetype": "text/x-python",
   "name": "python",
   "nbconvert_exporter": "python",
   "pygments_lexer": "ipython3",
   "version": "3.7.6"
  }
 },
 "nbformat": 4,
 "nbformat_minor": 4
}
